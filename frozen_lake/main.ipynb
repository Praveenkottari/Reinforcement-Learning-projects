{
 "cells": [
  {
   "cell_type": "code",
   "execution_count": 1,
   "metadata": {},
   "outputs": [],
   "source": [
    "import numpy as np\n",
    "import gym\n",
    "import random\n",
    "import time\n",
    "\n",
    "from IPython.display import clear_output"
   ]
  },
  {
   "cell_type": "code",
   "execution_count": 3,
   "metadata": {},
   "outputs": [],
   "source": [
    "env = gym.make('FrozenLake-v1')"
   ]
  },
  {
   "cell_type": "code",
   "execution_count": 4,
   "metadata": {},
   "outputs": [
    {
     "name": "stdout",
     "output_type": "stream",
     "text": [
      "[[0. 0. 0. 0.]\n",
      " [0. 0. 0. 0.]\n",
      " [0. 0. 0. 0.]\n",
      " [0. 0. 0. 0.]\n",
      " [0. 0. 0. 0.]\n",
      " [0. 0. 0. 0.]\n",
      " [0. 0. 0. 0.]\n",
      " [0. 0. 0. 0.]\n",
      " [0. 0. 0. 0.]\n",
      " [0. 0. 0. 0.]\n",
      " [0. 0. 0. 0.]\n",
      " [0. 0. 0. 0.]\n",
      " [0. 0. 0. 0.]\n",
      " [0. 0. 0. 0.]\n",
      " [0. 0. 0. 0.]\n",
      " [0. 0. 0. 0.]]\n"
     ]
    }
   ],
   "source": [
    "action_space_size = env.action_space.n\n",
    "state_space_size = env.observation_space.n \n",
    "\n",
    "q_table = np.zeros((state_space_size,action_space_size))\n",
    "print(q_table)"
   ]
  },
  {
   "cell_type": "code",
   "execution_count": 6,
   "metadata": {},
   "outputs": [],
   "source": [
    "num_episodes = 10000\n",
    "max_steps_per_episode = 100\n",
    "\n",
    "lr = 0.1\n",
    "discount_rate = 0.99\n",
    "\n",
    "exploration_rate = 1\n",
    "max_exploration_rate = 1\n",
    "min_exploration_rate = 0.01\n",
    "exploration_decay_rate = 0.001"
   ]
  },
  {
   "cell_type": "code",
   "execution_count": 13,
   "metadata": {},
   "outputs": [
    {
     "name": "stdout",
     "output_type": "stream",
     "text": [
      "*************** Avg reward per 1000 episodes ********************\n",
      "1000 :  0.051\n",
      "2000 :  0.194\n",
      "3000 :  0.391\n",
      "4000 :  0.567\n",
      "5000 :  0.649\n",
      "6000 :  0.662\n",
      "7000 :  0.67\n",
      "8000 :  0.672\n",
      "9000 :  0.687\n",
      "10000 :  0.689\n",
      "\n",
      "\n",
      "***************** Q-Table ****************\n",
      "[[0.4879649  0.47558384 0.4781753  0.47722147]\n",
      " [0.33630972 0.360275   0.34878801 0.43783691]\n",
      " [0.3978057  0.40935196 0.40641164 0.41856315]\n",
      " [0.36779872 0.32157712 0.33720488 0.40160095]\n",
      " [0.50567457 0.41989467 0.46593214 0.35081872]\n",
      " [0.         0.         0.         0.        ]\n",
      " [0.2682228  0.12694823 0.19288597 0.06439815]\n",
      " [0.         0.         0.         0.        ]\n",
      " [0.3151719  0.30161443 0.43779448 0.54346595]\n",
      " [0.49198174 0.57991668 0.48797204 0.30723788]\n",
      " [0.40630782 0.54676075 0.23297617 0.38386533]\n",
      " [0.         0.         0.         0.        ]\n",
      " [0.         0.         0.         0.        ]\n",
      " [0.42985582 0.55697874 0.72003964 0.56067402]\n",
      " [0.74454046 0.84806274 0.73972435 0.73388729]\n",
      " [0.         0.         0.         0.        ]]\n"
     ]
    }
   ],
   "source": [
    "reward_all_episodes = []\n",
    "\n",
    "## Q Learning Algorithm\n",
    "for episode in range(num_episodes):\n",
    "    state, _ = env.reset()\n",
    "    done = False\n",
    "    rewards_current_episode = 0\n",
    "\n",
    "    for step in range(max_steps_per_episode):\n",
    "        # Exploration-Exploitation tradeoff\n",
    "        exploration_rate_threshold = random.uniform(0, 1)\n",
    "\n",
    "        if exploration_rate_threshold > exploration_rate:\n",
    "            action = np.argmax(q_table[state, :])\n",
    "        else:\n",
    "            action = env.action_space.sample()\n",
    "\n",
    "        new_state, reward, terminated, truncated, info = env.step(action)\n",
    "        done = terminated or truncated\n",
    "\n",
    "        # Q-table update\n",
    "        q_table[state, action] = q_table[state, action] * (1 - lr) + \\\n",
    "            lr * (reward + discount_rate * np.max(q_table[new_state, :]))\n",
    "\n",
    "        state = new_state\n",
    "        rewards_current_episode += reward\n",
    "\n",
    "        if done:\n",
    "            break\n",
    "\n",
    "    # Decay exploration rate\n",
    "    exploration_rate = min_exploration_rate + \\\n",
    "        (max_exploration_rate - min_exploration_rate) * np.exp(-exploration_decay_rate * episode)\n",
    "\n",
    "    # Store reward\n",
    "    reward_all_episodes.append(rewards_current_episode)\n",
    "\n",
    "# Avg reward per 1000 episodes\n",
    "reward_per_1000_episodes = np.split(np.array(reward_all_episodes), num_episodes / 1000)\n",
    "count = 1000\n",
    "\n",
    "print(\"*************** Avg reward per 1000 episodes ********************\")\n",
    "for r in reward_per_1000_episodes:\n",
    "    print(count, \": \", str(np.sum(r) / 1000))\n",
    "    count += 1000\n",
    "\n",
    "print(\"\\n\\n***************** Q-Table ****************\")\n",
    "print(q_table)\n"
   ]
  },
  {
   "cell_type": "code",
   "execution_count": null,
   "metadata": {},
   "outputs": [],
   "source": []
  }
 ],
 "metadata": {
  "kernelspec": {
   "display_name": "RL",
   "language": "python",
   "name": "python3"
  },
  "language_info": {
   "codemirror_mode": {
    "name": "ipython",
    "version": 3
   },
   "file_extension": ".py",
   "mimetype": "text/x-python",
   "name": "python",
   "nbconvert_exporter": "python",
   "pygments_lexer": "ipython3",
   "version": "3.10.16"
  }
 },
 "nbformat": 4,
 "nbformat_minor": 2
}
